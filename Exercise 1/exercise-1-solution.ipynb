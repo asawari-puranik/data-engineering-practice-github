{
 "cells": [
  {
   "cell_type": "markdown",
   "metadata": {},
   "source": [
    "# Exercise #1 - Downloading files with Python\n",
    "### Problem Statement\n",
    "1. You need to download files that are sitting at the specified `HTTP` urls. You will use the `Python` package `requests` to do this work.\n",
    "1. You will need to pull the filename from the download uri.\n",
    "1. The files are `zip` files that will also need to be unzipped into their `csv` format.\n",
    "1. They should be downloaded into a folder called `downloads` which does not exist currently inside the `Exercise-1` folder. You should use `Python` to create the directory, do not do it manually."
   ]
  },
  {
   "cell_type": "code",
   "execution_count": 1,
   "metadata": {},
   "outputs": [],
   "source": [
    "# importing required packages\n",
    "import os\n",
    "import requests"
   ]
  },
  {
   "cell_type": "code",
   "execution_count": null,
   "metadata": {},
   "outputs": [],
   "source": [
    "if not os.path.exists('Downloads'):\n",
    "    os.makedirs('Downloads')"
   ]
  },
  {
   "cell_type": "code",
   "execution_count": null,
   "metadata": {},
   "outputs": [],
   "source": [
    "download_uris = [\n",
    "    \"https://divvy-tripdata.s3.amazonaws.com/Divvy_Trips_2018_Q4.zip\",\n",
    "    \"https://divvy-tripdata.s3.amazonaws.com/Divvy_Trips_2019_Q1.zip\",\n",
    "    #\"https://divvy-tripdata.s3.amazonaws.com/Divvy_Trips_2019_Q2.zip\",\n",
    "    #\"https://divvy-tripdata.s3.amazonaws.com/Divvy_Trips_2019_Q3.zip\",\n",
    "    \"https://divvy-tripdata.s3.amazonaws.com/Divvy_Trips_2019_Q4.zip\",\n",
    "    \"https://divvy-tripdata.s3.amazonaws.com/Divvy_Trips_2020_Q1.zip\"\n",
    "] \n",
    "#Commenting the 2 files as they are more than 25mb."
   ]
  },
  {
   "cell_type": "code",
   "execution_count": null,
   "metadata": {},
   "outputs": [],
   "source": [
    "for i in download_uris:\n",
    "    fname = i.split(\"/\")\n",
    "    with open(\"Downloads/\"+ fname[3][:-4] + \".csv\", \"wb\") as file:\n",
    "        file.write(requests.get(i).content)\n",
    "        print(fname[3]+\" unpacked successfully\")"
   ]
  }
 ],
 "metadata": {
  "kernelspec": {
   "display_name": "Python 3",
   "language": "python",
   "name": "python3"
  },
  "language_info": {
   "codemirror_mode": {
    "name": "ipython",
    "version": 3
   },
   "file_extension": ".py",
   "mimetype": "text/x-python",
   "name": "python",
   "nbconvert_exporter": "python",
   "pygments_lexer": "ipython3",
   "version": "3.12.0"
  }
 },
 "nbformat": 4,
 "nbformat_minor": 2
}
